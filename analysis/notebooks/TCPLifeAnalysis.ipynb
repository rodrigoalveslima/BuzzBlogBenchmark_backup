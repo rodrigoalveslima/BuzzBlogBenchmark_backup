{
 "cells": [
  {
   "cell_type": "markdown",
   "metadata": {},
   "source": [
    "# tcplife-bpfcc Log Analysis"
   ]
  },
  {
   "cell_type": "markdown",
   "metadata": {},
   "source": [
    "## Functionalities\n",
    "- Plot active number of TCP sessions.\n",
    "\n",
    "## Input\n",
    "Log files are read from a directory in `../data`. This directory is assumed to have the following structure:\n",
    "```\n",
    "logs/\n",
    "  [node-1]/\n",
    "    tcplife-bpfcc.tar.gz\n",
    "  ...\n",
    "  [node-n]/\n",
    "    tcplife-bpfcc.tar.gz\n",
    "```\n",
    "A tarball `tcplife-bpfcc.tar.gz` contains a log file named `tcplife-bpfcc.log`."
   ]
  },
  {
   "cell_type": "markdown",
   "metadata": {},
   "source": [
    "## Notebook Configuration"
   ]
  },
  {
   "cell_type": "code",
   "execution_count": null,
   "metadata": {},
   "outputs": [],
   "source": [
    "########## GENERAL\n",
    "# Name of the directory in `../data`\n",
    "EXPERIMENT_DIRNAME = \"BuzzBlogBenchmark_2021-10-10-18-35-22\"\n",
    "\n",
    "########## TCP SESSION\n",
    "# Address of interest\n",
    "ADDR_PORT = \"155.98.36.15:5435\"\n",
    "# Window size\n",
    "WINDOW_IN_MS = 10"
   ]
  },
  {
   "cell_type": "markdown",
   "metadata": {},
   "source": [
    "## Notebook Setup"
   ]
  },
  {
   "cell_type": "code",
   "execution_count": null,
   "metadata": {},
   "outputs": [],
   "source": [
    "# Import libraries.\n",
    "%matplotlib inline\n",
    "import codecs\n",
    "import csv\n",
    "import matplotlib.pyplot as plt\n",
    "import os\n",
    "import pandas as pd\n",
    "import tarfile\n",
    "import warnings\n",
    "warnings.filterwarnings(\"ignore\")"
   ]
  },
  {
   "cell_type": "markdown",
   "metadata": {},
   "source": [
    "## Log Parsing"
   ]
  },
  {
   "cell_type": "code",
   "execution_count": null,
   "metadata": {},
   "outputs": [],
   "source": [
    "# Parse logs\n",
    "tcp_sessions = {\"node_name\": [], \"timestamp\": [], \"comm\": [], \"addr_port\": [], \"duration\": []}\n",
    "node_names = os.listdir(os.path.join(os.pardir, \"data\", EXPERIMENT_DIRNAME, \"logs\"))\n",
    "for node_name in node_names:\n",
    "  tarball_path = os.path.join(os.pardir, \"data\", EXPERIMENT_DIRNAME, \"logs\", node_name, \"tcplife-bpfcc.tar.gz\")\n",
    "  if os.path.exists(tarball_path):\n",
    "    with tarfile.open(tarball_path, \"r:gz\") as tar:\n",
    "      for filename in tar.getnames():\n",
    "        if filename.endswith(\"tcplife-bpfcc.log\"):\n",
    "          with tar.extractfile(filename) as log_file:\n",
    "            reader = csv.DictReader(codecs.getreader(\"utf-8\")(log_file))\n",
    "            for row in reader:\n",
    "              if row[\"RPORT\"]:\n",
    "                tcp_sessions[\"node_name\"].append(node_name)\n",
    "                tcp_sessions[\"timestamp\"].append(float(row[\"TIME(s)\"]))\n",
    "                tcp_sessions[\"comm\"].append(row[\"COMM\"])\n",
    "                tcp_sessions[\"addr_port\"].append(row[\"RADDR\"] + \":\" + row[\"RPORT\"])\n",
    "                tcp_sessions[\"duration\"].append(float(row[\"MS\"]))"
   ]
  },
  {
   "cell_type": "code",
   "execution_count": null,
   "metadata": {},
   "outputs": [],
   "source": [
    "# Build data frame\n",
    "tcp_sessions = pd.DataFrame.from_dict(tcp_sessions)\n",
    "tcp_sessions[\"window\"] = tcp_sessions.apply(lambda r: range(int(r[\"timestamp\"] * 1000) // WINDOW_IN_MS,\n",
    "    int((r[\"timestamp\"] + r[\"duration\"] / 1000) * 1000) // WINDOW_IN_MS + 1), axis=1)\n",
    "tcp_sessions = tcp_sessions.explode(\"window\")"
   ]
  },
  {
   "cell_type": "markdown",
   "metadata": {},
   "source": [
    "## Number of Active TCP Sessions"
   ]
  },
  {
   "cell_type": "code",
   "execution_count": null,
   "metadata": {},
   "outputs": [],
   "source": [
    "df = tcp_sessions[tcp_sessions[\"addr_port\"] == ADDR_PORT]\n",
    "df = df.groupby([\"window\"])[\"window\"].count()\n",
    "df = df.reindex(range(0, int(df.index.max()) + 1), fill_value=0)\n",
    "fig = plt.figure(figsize=(18, 12))\n",
    "ax = fig.gca()\n",
    "ax.grid(alpha=0.75)\n",
    "ax.set_xlim((df.index.min(), df.index.max()))\n",
    "ax.set_ylim((0, df.values.max()))\n",
    "ax.set_xticklabels([str(i * 60) for i, _ in enumerate(range(0, int(df.index.max()) + 1, 60 * (1000 // WINDOW_IN_MS)))])\n",
    "df.plot(ax=ax, kind=\"line\",\n",
    "    title=\"%s - Number of active TCP sessions (%s-millisecond window)\" % (ADDR_PORT, WINDOW_IN_MS),\n",
    "    xlabel=\"Time (s)\", ylabel=\"TCP sessions (count)\", color=\"black\", grid=True,\n",
    "    xticks=range(0, int(df.index.max()) + 1, 60 * (1000 // WINDOW_IN_MS)))"
   ]
  }
 ],
 "metadata": {
  "interpreter": {
   "hash": "916dbcbb3f70747c44a77c7bcd40155683ae19c65e1c03b4aa3499c5328201f1"
  },
  "kernelspec": {
   "display_name": "Python 3.8.10 64-bit",
   "name": "python3"
  },
  "language_info": {
   "codemirror_mode": {
    "name": "ipython",
    "version": 3
   },
   "file_extension": ".py",
   "mimetype": "text/x-python",
   "name": "python",
   "nbconvert_exporter": "python",
   "pygments_lexer": "ipython3",
   "version": "3.8.10"
  },
  "orig_nbformat": 4
 },
 "nbformat": 4,
 "nbformat_minor": 2
}
