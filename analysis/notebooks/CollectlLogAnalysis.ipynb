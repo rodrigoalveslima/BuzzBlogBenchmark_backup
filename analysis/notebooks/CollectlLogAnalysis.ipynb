{
 "cells": [
  {
   "cell_type": "markdown",
   "metadata": {},
   "source": [
    "# Collectl Log Analysis"
   ]
  },
  {
   "cell_type": "markdown",
   "metadata": {},
   "source": [
    "## Functionalities\n",
    "- Plot CPU utilization graphs.\n",
    "- Plot memory utilization graphs.\n",
    "- Plot disk I/O utilization graphs.\n",
    "\n",
    "## Input\n",
    "Log files are read from a directory in `../data`. This directory is assumed to have the following structure:\n",
    "```\n",
    "logs/\n",
    "  [node-1]/\n",
    "    collectl.tar.gz\n",
    "  ...\n",
    "  [node-n]/\n",
    "    collectl.tar.gz\n",
    "```\n",
    "A tarball `collectl.tar.gz` contains log files. The log file extension identifies the type of resource monitored:\n",
    "- `.cpu.gz`: CPU monitoring log file.\n",
    "- `.numa.gz`: memory monitoring log file.\n",
    "- `.dsk.gz`: disk I/O monitoring log file."
   ]
  },
  {
   "cell_type": "markdown",
   "metadata": {},
   "source": [
    "## Notebook Configuration"
   ]
  },
  {
   "cell_type": "code",
   "execution_count": null,
   "metadata": {},
   "outputs": [],
   "source": [
    "########## GENERAL\n",
    "# Name of the directory in `../data`\n",
    "EXPERIMENT_DIRNAME = \"BuzzBlogBenchmark_2021-10-10-18-35-22\"\n",
    "\n",
    "########## CPU\n",
    "# Analyzed metric (options: \"user\", \"nice\", \"system\", \"wait\", \"irq\", \"soft\",\n",
    "# \"steal\", \"idle\", \"total\", \"guest\", \"guest_n\", \"intrpt\")\n",
    "COLLECTL_CPU_METRIC = \"total\"\n",
    "\n",
    "########## MEMORY\n",
    "# Analyzed metric (options: \"used\", \"free\", \"slab\", \"mapped\", \"anon\", \"anonh\", \"inactive\", \"hits\")\n",
    "COLLECTL_MEM_METRIC = \"free\"\n",
    "\n",
    "########## DISK I/O\n",
    "# Analyzed metric (options: \"reads\", \"rmerge\", \"rkbytes\", \"waitr\", \"writes\", \"wmerge\", \"wkbytes\", \"waitw\", \"request\",\n",
    "# \"quelen\", \"wait\", \"svctim\", \"util\")\n",
    "COLLECTL_DSK_METRIC = \"quelen\""
   ]
  },
  {
   "cell_type": "markdown",
   "metadata": {},
   "source": [
    "## Notebook Setup"
   ]
  },
  {
   "cell_type": "code",
   "execution_count": null,
   "metadata": {},
   "outputs": [],
   "source": [
    "# Import libraries.\n",
    "%matplotlib inline\n",
    "import datetime\n",
    "import gzip\n",
    "import matplotlib.pyplot as plt\n",
    "import os\n",
    "import pandas as pd\n",
    "import tarfile\n",
    "import warnings\n",
    "warnings.filterwarnings(\"ignore\")\n",
    "\n",
    "# Constants\n",
    "CPU_METRICS = [\"user\", \"nice\", \"system\", \"wait\", \"irq\", \"soft\", \"steal\", \"idle\", \"total\", \"guest\", \"guest_n\", \"intrpt\"]\n",
    "MEM_METRICS = [\"used\", \"free\", \"slab\", \"mapped\", \"anon\", \"anonh\", \"inactive\", \"hits\"]\n",
    "DSK_METRICS = [\"reads\", \"rmerge\", \"rkbytes\", \"waitr\", \"writes\", \"wmerge\", \"wkbytes\", \"waitw\", \"request\",\n",
    "    \"quelen\", \"wait\", \"svctim\", \"util\"]"
   ]
  },
  {
   "cell_type": "markdown",
   "metadata": {},
   "source": [
    "## Log Parsing"
   ]
  },
  {
   "cell_type": "code",
   "execution_count": null,
   "metadata": {},
   "outputs": [],
   "source": [
    "# Parse logs\n",
    "cpu = {\"node_name\": [], \"core_no\": [], \"timestamp\": [], \"metric\": [], \"value\": []}\n",
    "mem = {\"node_name\": [], \"numa_node\": [], \"timestamp\": [], \"metric\": [], \"value\": []}\n",
    "dsk = {\"node_name\": [], \"dsk_no\": [], \"timestamp\": [], \"metric\": [], \"value\": []}\n",
    "node_names = os.listdir(os.path.join(os.pardir, \"data\", EXPERIMENT_DIRNAME, \"logs\"))\n",
    "for node_name in node_names:\n",
    "    node_min_timestamp = None\n",
    "    tarball_path = os.path.join(os.pardir, \"data\", EXPERIMENT_DIRNAME, \"logs\", node_name, \"collectl.tar.gz\")\n",
    "    with tarfile.open(tarball_path, \"r:gz\") as tar:\n",
    "        for filename in tar.getnames():\n",
    "            if filename.endswith(\".cpu.gz\"):\n",
    "                with gzip.open(tar.extractfile(filename), \"rt\") as cpu_log_file:\n",
    "                    for log in cpu_log_file:\n",
    "                        if log[0] == '#':\n",
    "                            # Skip comments.\n",
    "                            continue\n",
    "                        log_entry = log.split()\n",
    "                        timestamp = datetime.datetime.strptime(\" \".join(log_entry[:2]), \"%Y%m%d %H:%M:%S.%f\")\n",
    "                        if node_min_timestamp is None:\n",
    "                            node_min_timestamp = timestamp\n",
    "                        for core_no in range((len(log_entry) - 2) // len(CPU_METRICS)):\n",
    "                            for (i, metric) in enumerate(CPU_METRICS):\n",
    "                                cpu[\"node_name\"].append(node_name)\n",
    "                                cpu[\"core_no\"].append(core_no)\n",
    "                                cpu[\"timestamp\"].append((timestamp - node_min_timestamp).total_seconds())\n",
    "                                cpu[\"metric\"].append(metric)\n",
    "                                cpu[\"value\"].append(float(log_entry[i + 2 + core_no * len(CPU_METRICS)]))\n",
    "            if filename.endswith(\".numa.gz\"):\n",
    "                with gzip.open(tar.extractfile(filename), \"rt\") as mem_log_file:\n",
    "                    for log in mem_log_file:\n",
    "                        if log[0] == '#':\n",
    "                            # Skip comments.\n",
    "                            continue\n",
    "                        log_entry = log.split()\n",
    "                        timestamp = datetime.datetime.strptime(\" \".join(log_entry[:2]), \"%Y%m%d %H:%M:%S.%f\")\n",
    "                        if node_min_timestamp is None:\n",
    "                            node_min_timestamp = timestamp\n",
    "                        for numa_node in range((len(log_entry) - 2) // len(MEM_METRICS)):\n",
    "                            for (i, metric) in enumerate(MEM_METRICS):\n",
    "                                mem[\"node_name\"].append(node_name)\n",
    "                                mem[\"numa_node\"].append(numa_node)\n",
    "                                mem[\"timestamp\"].append((timestamp - node_min_timestamp).total_seconds())\n",
    "                                mem[\"metric\"].append(metric)\n",
    "                                mem[\"value\"].append(float(log_entry[i + 2 + numa_node * len(MEM_METRICS)]))\n",
    "            if filename.endswith(\".dsk.gz\"):\n",
    "                with gzip.open(tar.extractfile(filename), \"rt\") as dsk_log_file:\n",
    "                    for log in dsk_log_file:\n",
    "                        if log[0] == '#':\n",
    "                            # Skip comments.\n",
    "                            continue\n",
    "                        log_entry = log.split()\n",
    "                        timestamp = datetime.datetime.strptime(\" \".join(log_entry[:2]), \"%Y%m%d %H:%M:%S.%f\")\n",
    "                        if node_min_timestamp is None:\n",
    "                            node_min_timestamp = timestamp\n",
    "                        for dsk_no in range((len(log_entry) - 2) // (len(DSK_METRICS) + 1)):\n",
    "                            for (i, metric) in enumerate(DSK_METRICS):\n",
    "                                dsk[\"node_name\"].append(node_name)\n",
    "                                dsk[\"dsk_no\"].append(dsk_no)\n",
    "                                dsk[\"timestamp\"].append((timestamp - node_min_timestamp).total_seconds())\n",
    "                                dsk[\"metric\"].append(metric)\n",
    "                                dsk[\"value\"].append(float(log_entry[i + 3 + dsk_no * (len(DSK_METRICS) + 1)]))"
   ]
  },
  {
   "cell_type": "code",
   "execution_count": null,
   "metadata": {},
   "outputs": [],
   "source": [
    "# Build data frames\n",
    "cpu = pd.DataFrame.from_dict(cpu)\n",
    "mem = pd.DataFrame.from_dict(mem)\n",
    "dsk = pd.DataFrame.from_dict(dsk)"
   ]
  },
  {
   "cell_type": "markdown",
   "metadata": {},
   "source": [
    "## CPU Monitoring"
   ]
  },
  {
   "cell_type": "code",
   "execution_count": null,
   "metadata": {},
   "outputs": [],
   "source": [
    "# Plot CPU utilization\n",
    "fig = plt.figure(figsize=(24, len(node_names) * 12))\n",
    "for (i, node_name) in enumerate(node_names):\n",
    "    df = cpu[(cpu[\"node_name\"] == node_name) & (cpu[\"metric\"] == COLLECTL_CPU_METRIC)]\n",
    "    df = df.groupby([\"timestamp\", \"core_no\"])[\"value\"].mean()\n",
    "    df = df.unstack()\n",
    "    ax = fig.add_subplot(len(node_names), 1, i + 1)\n",
    "    ax.set_xlim((df.index.min(), df.index.max()))\n",
    "    ax.set_ylim((0, 100))\n",
    "    ax.grid(alpha=0.75)\n",
    "    df.plot(ax=ax, kind=\"line\", title=\"%s - CPU Utilization\" % node_name, xlabel=\"Time (seconds)\",\n",
    "        ylabel=\"%s (%%)\" % COLLECTL_CPU_METRIC, grid=True, legend=False, yticks=range(0, 101, 10))"
   ]
  },
  {
   "cell_type": "markdown",
   "metadata": {},
   "source": [
    "## Memory Monitoring"
   ]
  },
  {
   "cell_type": "code",
   "execution_count": null,
   "metadata": {},
   "outputs": [],
   "source": [
    "# Plot memory utilization\n",
    "fig = plt.figure(figsize=(24, len(node_names) * 12))\n",
    "for (i, node_name) in enumerate(node_names):\n",
    "    df = mem[(mem[\"node_name\"] == node_name) & (mem[\"metric\"] == COLLECTL_MEM_METRIC)]\n",
    "    df = df.groupby([\"timestamp\", \"numa_node\"])[\"value\"].mean()\n",
    "    df = df.unstack()\n",
    "    ax = fig.add_subplot(len(node_names), 1, i + 1)\n",
    "    ax.set_xlim((df.index.min(), df.index.max()))\n",
    "    ax.set_ylim((0, df.values.max()))\n",
    "    ax.grid(alpha=0.75)\n",
    "    df.plot(ax=ax, kind=\"line\", title=\"%s - Mem Utilization\" % node_name, xlabel=\"Time (seconds)\",\n",
    "        ylabel=\"%s\" % COLLECTL_MEM_METRIC, grid=True)"
   ]
  },
  {
   "cell_type": "markdown",
   "metadata": {},
   "source": [
    "## Disk Monitoring"
   ]
  },
  {
   "cell_type": "code",
   "execution_count": null,
   "metadata": {},
   "outputs": [],
   "source": [
    "# Plot disk I/O utilization\n",
    "fig = plt.figure(figsize=(24, len(node_names) * 12))\n",
    "for (i, node_name) in enumerate(node_names):\n",
    "    df = dsk[(dsk[\"node_name\"] == node_name) & (dsk[\"metric\"] == COLLECTL_DSK_METRIC)]\n",
    "    df = df.groupby([\"timestamp\", \"dsk_no\"])[\"value\"].mean()\n",
    "    df = df.unstack()\n",
    "    ax = fig.add_subplot(len(node_names), 1, i + 1)\n",
    "    ax.set_xlim((df.index.min(), df.index.max()))\n",
    "    ax.set_ylim((0, df.values.max()))\n",
    "    ax.grid(alpha=0.75)\n",
    "    df.plot(ax=ax, kind=\"line\", title=\"%s - Disk I/O Utilization\" % node_name, xlabel=\"Time (seconds)\",\n",
    "        ylabel=\"%s\" % COLLECTL_DSK_METRIC, grid=True)"
   ]
  }
 ],
 "metadata": {
  "interpreter": {
   "hash": "31f2aee4e71d21fbe5cf8b01ff0e069b9275f58929596ceb00d14d90e3e16cd6"
  },
  "kernelspec": {
   "display_name": "Python 3.8.10 64-bit",
   "name": "python3"
  },
  "language_info": {
   "codemirror_mode": {
    "name": "ipython",
    "version": 3
   },
   "file_extension": ".py",
   "mimetype": "text/x-python",
   "name": "python",
   "nbconvert_exporter": "python",
   "pygments_lexer": "ipython3",
   "version": "3.8.10"
  }
 },
 "nbformat": 4,
 "nbformat_minor": 2
}
