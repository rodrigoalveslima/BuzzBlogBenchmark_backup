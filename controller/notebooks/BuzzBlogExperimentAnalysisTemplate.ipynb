{
 "cells": [
  {
   "cell_type": "markdown",
   "id": "fancy-devices",
   "metadata": {
    "id": "2WgehjBGdCx2",
    "papermill": {
     "duration": 0.023371,
     "end_time": "2021-03-23T17:42:01.566184",
     "exception": false,
     "start_time": "2021-03-23T17:42:01.542813",
     "status": "completed"
    },
    "tags": []
   },
   "source": [
    "# BuzzBlog Experiment Analysis"
   ]
  },
  {
   "cell_type": "markdown",
   "id": "searching-lounge",
   "metadata": {
    "id": "AVNFVn5H2Ub8",
    "papermill": {
     "duration": 0.018427,
     "end_time": "2021-03-23T17:42:01.602586",
     "exception": false,
     "start_time": "2021-03-23T17:42:01.584159",
     "status": "completed"
    },
    "tags": []
   },
   "source": [
    "## Notebook Configuration"
   ]
  },
  {
   "cell_type": "code",
   "execution_count": null,
   "id": "golden-mumbai",
   "metadata": {
    "execution": {
     "iopub.execute_input": "2021-03-23T17:42:01.657619Z",
     "iopub.status.busy": "2021-03-23T17:42:01.655161Z",
     "iopub.status.idle": "2021-03-23T17:42:01.661047Z",
     "shell.execute_reply": "2021-03-23T17:42:01.661495Z"
    },
    "id": "4lBdMUmd1Cjn",
    "papermill": {
     "duration": 0.037397,
     "end_time": "2021-03-23T17:42:01.661697",
     "exception": false,
     "start_time": "2021-03-23T17:42:01.624300",
     "status": "completed"
    },
    "tags": [
     "parameters"
    ]
   },
   "outputs": [],
   "source": [
    "# NOTE: This cell is tagged parameters.\n",
    "# REF: https://papermill.readthedocs.io/en/latest/usage-parameterize.html\n",
    "########## GENERAL\n",
    "# Environment (options: \"colab\", \"local\")\n",
    "ENV = \"local\"\n",
    "# Experiment directory name\n",
    "EXPERIMENT = \"../../docs/sample/BuzzBlogBenchmark_2021-03-18-14-14-16\"\n",
    "\n",
    "########## DIRECTORY STRUCTURE\n",
    "LOADGEN_NODE = \"apt087.apt.emulab.net\"\n",
    "LOADBALANCER_NODE = \"apt078.apt.emulab.net\"\n",
    "APIGATEWAY_NODE = \"apt078.apt.emulab.net\"\n",
    "ACCOUNT_SERVICE_NODE = \"apt083.apt.emulab.net\"\n",
    "ACCOUNT_DB_NODE = \"apt080.apt.emulab.net\"\n",
    "FOLLOW_SERVICE_NODE = \"apt083.apt.emulab.net\"\n",
    "LIKE_SERVICE_NODE = \"apt083.apt.emulab.net\"\n",
    "POST_SERVICE_NODE = \"apt083.apt.emulab.net\"\n",
    "POST_DB_NODE = \"apt080.apt.emulab.net\"\n",
    "UNIQUEPAIR_SERVICE_NODE = \"apt083.apt.emulab.net\"\n",
    "UNIQUEPAIR_DB_NODE = \"apt080.apt.emulab.net\"\n",
    "\n",
    "########## REQUEST LOGS\n",
    "# Fine-grained window to group PIT data\n",
    "PIT_FG_WINDOW_IN_MS = 50\n",
    "# Function to aggregate PIT data\n",
    "PIT_AGGREGATE_FUNC = \"max\"\n",
    "\n",
    "########## SYSTEM EVENT MONITORING LOGS\n",
    "##### TCPLIFE\n",
    "# Fine-grained window to group TCP connection lifespan\n",
    "TCPLIFE_FG_WINDOW_IN_MS = 25\n",
    "\n",
    "########## SYSTEM RESOURCE MONITORING LOGS\n",
    "##### COLLECTL\n",
    "# Fine-grained window to group Collectl measurements\n",
    "COLLECTL_FG_WINDOW_IN_MS = 50\n",
    "# Function to aggregate Collectl measurements\n",
    "COLLECTL_AGGREGATE_FUNC = \"max\"\n",
    "# CPU metric to be analyzed (options: \"user\", \"nice\", \"system\", \"wait\", \"irq\", \"soft\", \"steal\", \"idle\", \"total\", \"guest\", \"guest_n\", \"intrpt\")\n",
    "CPU_METRIC = \"total\""
   ]
  },
  {
   "cell_type": "markdown",
   "id": "circular-relationship",
   "metadata": {
    "id": "VwwtkHfAdCx3",
    "papermill": {
     "duration": 0.017924,
     "end_time": "2021-03-23T17:42:01.697940",
     "exception": false,
     "start_time": "2021-03-23T17:42:01.680016",
     "status": "completed"
    },
    "tags": []
   },
   "source": [
    "## Notebook Setup"
   ]
  },
  {
   "cell_type": "code",
   "execution_count": null,
   "id": "creative-preview",
   "metadata": {
    "execution": {
     "iopub.execute_input": "2021-03-23T17:42:01.751659Z",
     "iopub.status.busy": "2021-03-23T17:42:01.742723Z",
     "iopub.status.idle": "2021-03-23T17:42:04.031272Z",
     "shell.execute_reply": "2021-03-23T17:42:04.030697Z"
    },
    "id": "IO0_sXBqdCx3",
    "papermill": {
     "duration": 2.315327,
     "end_time": "2021-03-23T17:42:04.031388",
     "exception": false,
     "start_time": "2021-03-23T17:42:01.716061",
     "status": "completed"
    },
    "tags": []
   },
   "outputs": [],
   "source": [
    "# Import libraries\n",
    "%matplotlib inline\n",
    "import codecs\n",
    "import csv\n",
    "import datetime\n",
    "import matplotlib.pyplot as plt\n",
    "import numpy as np\n",
    "import os\n",
    "import pandas as pd\n",
    "import re\n",
    "import sys\n",
    "import tarfile\n",
    "import time\n",
    "import yaml\n",
    "import warnings\n",
    "warnings.filterwarnings(\"ignore\")\n",
    "\n",
    "# Set the environment\n",
    "if ENV == \"colab\":\n",
    "  from google.colab import drive\n",
    "  drive.mount(\"GoogleDrive\", force_remount=True)\n",
    "  EXPERIMENT_DIR = os.path.join(\"GoogleDrive\", \"MyDrive\", EXPERIMENT)\n",
    "elif ENV == \"local\":\n",
    "  EXPERIMENT_DIR = EXPERIMENT\n",
    "\n",
    "# Load experiment metadata\n",
    "with open(os.path.join(EXPERIMENT_DIR, \"metadata.yml\")) as metadata_file:\n",
    "    metadata = yaml.load(metadata_file, Loader=yaml.Loader)\n",
    "\n",
    "# Load experiment configuration files\n",
    "with open(os.path.join(EXPERIMENT_DIR, \"conf\", \"system.yml\")) as system_conf_file:\n",
    "    system_conf = yaml.load(system_conf_file, Loader=yaml.Loader)\n",
    "with open(os.path.join(EXPERIMENT_DIR, \"conf\", \"workload.yml\")) as workload_conf_file:\n",
    "    workload_conf = yaml.load(workload_conf_file, Loader=yaml.Loader)"
   ]
  },
  {
   "cell_type": "markdown",
   "id": "recorded-lawrence",
   "metadata": {
    "papermill": {
     "duration": 0.017986,
     "end_time": "2021-03-23T17:42:04.067665",
     "exception": false,
     "start_time": "2021-03-23T17:42:04.049679",
     "status": "completed"
    },
    "tags": []
   },
   "source": [
    "## Experiment Metadata"
   ]
  },
  {
   "cell_type": "code",
   "execution_count": null,
   "id": "olive-switzerland",
   "metadata": {
    "execution": {
     "iopub.execute_input": "2021-03-23T17:42:04.108762Z",
     "iopub.status.busy": "2021-03-23T17:42:04.108096Z",
     "iopub.status.idle": "2021-03-23T17:42:04.110844Z",
     "shell.execute_reply": "2021-03-23T17:42:04.111189Z"
    },
    "papermill": {
     "duration": 0.025883,
     "end_time": "2021-03-23T17:42:04.111307",
     "exception": false,
     "start_time": "2021-03-23T17:42:04.085424",
     "status": "completed"
    },
    "tags": []
   },
   "outputs": [],
   "source": [
    "print(yaml.dump(metadata, default_flow_style=False))"
   ]
  },
  {
   "cell_type": "markdown",
   "id": "acceptable-option",
   "metadata": {
    "id": "3r4VXjPwdCx5",
    "papermill": {
     "duration": 0.01855,
     "end_time": "2021-03-23T17:42:04.148337",
     "exception": false,
     "start_time": "2021-03-23T17:42:04.129787",
     "status": "completed"
    },
    "tags": []
   },
   "source": [
    "## Request Logs"
   ]
  },
  {
   "cell_type": "code",
   "execution_count": null,
   "id": "manufactured-minutes",
   "metadata": {
    "execution": {
     "iopub.execute_input": "2021-03-23T17:42:04.197148Z",
     "iopub.status.busy": "2021-03-23T17:42:04.193276Z",
     "iopub.status.idle": "2021-03-23T17:42:05.706229Z",
     "shell.execute_reply": "2021-03-23T17:42:05.706614Z"
    },
    "id": "sytpElWWdCx5",
    "papermill": {
     "duration": 1.540073,
     "end_time": "2021-03-23T17:42:05.706751",
     "exception": false,
     "start_time": "2021-03-23T17:42:04.166678",
     "status": "completed"
    },
    "tags": []
   },
   "outputs": [],
   "source": [
    "# Parse request logs\n",
    "REQUEST_LOG_PATTERN = r\"^\\[(\\d+\\-\\d+\\-\\d+ \\d+:\\d+:\\d+.\\d+)\\] (.+) (.+) (\\d+) - latency=(\\d+.\\d+)$\"\n",
    "URL_PATTERN = r\"^http://[\\w\\.]+:\\d+/{path}/?\\??{qs}$\"\n",
    "REQUEST_TO_TYPE = {\n",
    "    (URL_PATTERN.format(path=\"account\", qs=\"\"), \"POST\"): \"create_account\",\n",
    "    (URL_PATTERN.format(path=\"account/\\d+\", qs=\"\"), \"PUT\"): \"update_account\",\n",
    "    (URL_PATTERN.format(path=\"post\", qs=\"\"), \"POST\"): \"create_post\",\n",
    "    (URL_PATTERN.format(path=\"post/\\d+\", qs=\"\"), \"DELETE\"): \"delete_post\",\n",
    "    (URL_PATTERN.format(path=\"follow\", qs=\"\"), \"POST\"): \"follow_account\",\n",
    "    (URL_PATTERN.format(path=\"follow/\\d+\", qs=\"\"), \"DELETE\"): \"delete_follow\",\n",
    "    (URL_PATTERN.format(path=\"like\", qs=\"\"), \"POST\"): \"like_post\",\n",
    "    (URL_PATTERN.format(path=\"like/\\d+\", qs=\"\"), \"DELETE\"): \"delete_like\",\n",
    "    (URL_PATTERN.format(path=\"post\", qs=\"\"), \"GET\"): \"retrieve_recent_posts\",\n",
    "    (URL_PATTERN.format(path=\"post/\\d+\", qs=\"\"), \"GET\"): \"retrieve_post\",\n",
    "    (URL_PATTERN.format(path=\"like\", qs=\"post_id=\\d+\"), \"GET\"): \"retrieve_post_likes\",\n",
    "    (URL_PATTERN.format(path=\"account/\\d+\", qs=\"\"), \"GET\"): \"retrieve_account\",\n",
    "    (URL_PATTERN.format(path=\"post\", qs=\"author_id=\\d+\"), \"GET\"): \"retrieve_account_posts\",\n",
    "    (URL_PATTERN.format(path=\"follow\", qs=\"followee_id=\\d+\"), \"GET\"): \"retrieve_account_followers\",\n",
    "    (URL_PATTERN.format(path=\"follow\", qs=\"follower_id=\\d+\"), \"GET\"): \"retrieve_account_followees\",\n",
    "    (URL_PATTERN.format(path=\"like\", qs=\"account_id=\\d+\"), \"GET\"): \"retrieve_account_likes\"\n",
    "}\n",
    "requests = []\n",
    "tarball = tarfile.open(os.path.join(EXPERIMENT_DIR, \"logs\", LOADGEN_NODE, \"loadgen.tar.gz\"))\n",
    "with tarball.extractfile(\"./loadgen.log\") as loadgen_log_file:\n",
    "  for request_log in loadgen_log_file:\n",
    "    timestamp, method, url, status_code, latency = re.match(REQUEST_LOG_PATTERN, request_log.decode(\"utf-8\")).groups()\n",
    "    requests.append({\"timestamp\": pd.to_datetime(timestamp), \"method\": method, \"url\": url,\n",
    "                     \"status_code\": int(status_code), \"latency\": float(latency)})"
   ]
  },
  {
   "cell_type": "code",
   "execution_count": null,
   "id": "potential-infrastructure",
   "metadata": {
    "execution": {
     "iopub.execute_input": "2021-03-23T17:42:05.759607Z",
     "iopub.status.busy": "2021-03-23T17:42:05.759086Z",
     "iopub.status.idle": "2021-03-23T17:42:10.164947Z",
     "shell.execute_reply": "2021-03-23T17:42:10.164512Z"
    },
    "id": "XSCD-s9ydCx5",
    "papermill": {
     "duration": 4.437869,
     "end_time": "2021-03-23T17:42:10.165061",
     "exception": false,
     "start_time": "2021-03-23T17:42:05.727192",
     "status": "completed"
    },
    "tags": []
   },
   "outputs": [],
   "source": [
    "# Build data frame\n",
    "requests = pd.DataFrame(requests)\n",
    "requests.sort_values(by=\"timestamp\", ascending=True, inplace=True)\n",
    "requests[\"status\"] = requests.apply(lambda r: \"successful\" if r[\"status_code\"] == 200 else \"failed\", axis=1)\n",
    "requests[\"time\"] = requests.apply(lambda r: (r[\"timestamp\"] - requests[\"timestamp\"].min()).total_seconds(), axis=1)\n",
    "requests[\"window\"] = requests.apply(lambda r: int(r[\"time\"]), axis=1)\n",
    "requests[\"fg_window\"] = requests.apply(lambda r: int(r[\"time\"] * 1000) // PIT_FG_WINDOW_IN_MS, axis=1)\n",
    "requests[\"type\"] = requests.apply(lambda r: [request_type\n",
    "    for ((pattern, method), request_type) in REQUEST_TO_TYPE.items()\n",
    "    if method == r[\"method\"] and re.match(pattern, r[\"url\"])][0], axis=1)\n",
    "requests[\"rw\"] = requests.apply(lambda r: \"read\" if r[\"method\"] == \"GET\" else \"write\", axis=1)"
   ]
  },
  {
   "cell_type": "markdown",
   "id": "another-filing",
   "metadata": {
    "id": "4-7dBMEQdCx6",
    "papermill": {
     "duration": 0.038563,
     "end_time": "2021-03-23T17:42:10.222475",
     "exception": false,
     "start_time": "2021-03-23T17:42:10.183912",
     "status": "completed"
    },
    "tags": []
   },
   "source": [
    "### Workload Analysis"
   ]
  },
  {
   "cell_type": "markdown",
   "id": "vocational-chapel",
   "metadata": {
    "id": "SGoXzJdP-GRx",
    "papermill": {
     "duration": 0.018514,
     "end_time": "2021-03-23T17:42:10.259387",
     "exception": false,
     "start_time": "2021-03-23T17:42:10.240873",
     "status": "completed"
    },
    "tags": []
   },
   "source": [
    "#### Summary"
   ]
  },
  {
   "cell_type": "code",
   "execution_count": null,
   "id": "simple-zealand",
   "metadata": {
    "execution": {
     "iopub.execute_input": "2021-03-23T17:42:10.309855Z",
     "iopub.status.busy": "2021-03-23T17:42:10.304101Z",
     "iopub.status.idle": "2021-03-23T17:42:10.388139Z",
     "shell.execute_reply": "2021-03-23T17:42:10.388472Z"
    },
    "id": "9GFb4w8ssPS-",
    "papermill": {
     "duration": 0.110725,
     "end_time": "2021-03-23T17:42:10.388596",
     "exception": false,
     "start_time": "2021-03-23T17:42:10.277871",
     "status": "completed"
    },
    "tags": []
   },
   "outputs": [],
   "source": [
    "print(\"Number of requests\")\n",
    "print(\"  Total:       %7d\" % requests.shape[0])\n",
    "print(\"  Status\")\n",
    "print(\"    Failed:    %7d (%9.5f%%)\" % (requests[requests[\"status\"] == \"failed\"][\"status\"].count(), (requests[requests[\"status\"] == \"failed\"][\"status\"].count() / requests.shape[0]) * 100))\n",
    "print(\"    Succesful: %7d (%9.5f%%)\" % (requests[requests[\"status\"] == \"successful\"][\"status\"].count(), (requests[requests[\"status\"] == \"successful\"][\"status\"].count() / requests.shape[0]) * 100))\n",
    "print(\"  Type\")\n",
    "print(\"    Read:      %7d (%9.5f%%)\" % (requests[requests[\"rw\"] == \"read\"][\"rw\"].count(), (requests[requests[\"rw\"] == \"read\"][\"rw\"].count() / requests.shape[0]) * 100))\n",
    "print(\"    Write:     %7d (%9.5f%%)\" % (requests[requests[\"rw\"] == \"write\"][\"rw\"].count(), (requests[requests[\"rw\"] == \"write\"][\"rw\"].count() / requests.shape[0]) * 100))\n",
    "print(\"Experiment duration (s)\")\n",
    "print(\"  Total:       %7.3f\" % requests[\"time\"].max())\n",
    "print(\"  Ramp\")\n",
    "print(\"    Up:        %7.3f (%9.5f%%)\" % (workload_conf[\"duration\"][\"ramp_up\"], (workload_conf[\"duration\"][\"ramp_up\"] / requests[\"time\"].max()) * 100))\n",
    "print(\"    Down:      %7.3f (%9.5f%%)\" % (workload_conf[\"duration\"][\"ramp_down\"], (workload_conf[\"duration\"][\"ramp_down\"] / requests[\"time\"].max()) * 100))\n",
    "print(\"Latency (ms)\")\n",
    "print(\"  P99:         %7.2f\" % (requests[requests[\"status\"] == \"successful\"][\"latency\"].quantile(0.99) * 1000))\n",
    "print(\"  P95:         %7.2f\" % (requests[requests[\"status\"] == \"successful\"][\"latency\"].quantile(0.95) * 1000))\n",
    "print(\"  P50:         %7.2f\" % (requests[requests[\"status\"] == \"successful\"][\"latency\"].quantile(0.50) * 1000))\n",
    "print(\"  Avg:         %7.2f\" % (requests[requests[\"status\"] == \"successful\"][\"latency\"].mean() * 1000))\n",
    "print(\"  Std:         %7.2f\" % (requests[requests[\"status\"] == \"successful\"][\"latency\"].std() * 1000))\n",
    "print(\"Throughput (req/s)\")\n",
    "print(\"  P99:         %7.2f\" % requests.groupby([\"window\"])[\"window\"].count().reindex(range(0, int(requests[\"time\"].max()) + 1), fill_value=0).quantile(0.99))\n",
    "print(\"  P95:         %7.2f\" % requests.groupby([\"window\"])[\"window\"].count().reindex(range(0, int(requests[\"time\"].max()) + 1), fill_value=0).quantile(0.95))\n",
    "print(\"  P50:         %7.2f\" % requests.groupby([\"window\"])[\"window\"].count().reindex(range(0, int(requests[\"time\"].max()) + 1), fill_value=0).quantile(0.59))\n",
    "print(\"  Avg:         %7.2f\" % requests.groupby([\"window\"])[\"window\"].count().reindex(range(0, int(requests[\"time\"].max()) + 1), fill_value=0).mean())\n",
    "print(\"  Std:         %7.2f\" % requests.groupby([\"window\"])[\"window\"].count().reindex(range(0, int(requests[\"time\"].max()) + 1), fill_value=0).std())"
   ]
  },
  {
   "cell_type": "code",
   "execution_count": null,
   "id": "completed-america",
   "metadata": {
    "execution": {
     "iopub.execute_input": "2021-03-23T17:42:10.450307Z",
     "iopub.status.busy": "2021-03-23T17:42:10.449775Z",
     "iopub.status.idle": "2021-03-23T17:42:11.119102Z",
     "shell.execute_reply": "2021-03-23T17:42:11.119452Z"
    },
    "id": "xceJTrc5dCx6",
    "papermill": {
     "duration": 0.708639,
     "end_time": "2021-03-23T17:42:11.119572",
     "exception": false,
     "start_time": "2021-03-23T17:42:10.410933",
     "status": "completed"
    },
    "tags": []
   },
   "outputs": [],
   "source": [
    "fig = plt.figure(figsize=(18, 6))\n",
    "# Number of read/write requests\n",
    "df = requests.groupby([\"rw\"]).count()[\"method\"]\n",
    "ax = fig.add_subplot(1, 3, 1)\n",
    "df.plot(ax=ax, kind=\"pie\", title=\"Number of read/write requests\",\n",
    "        xlabel=\"\", ylabel=\"\",\n",
    "        legend=True)\n",
    "# Number of successful/failed requests\n",
    "df = requests.groupby([\"status\"]).count()[\"method\"]\n",
    "ax = fig.add_subplot(1, 3, 2)\n",
    "df.plot(ax=ax, kind=\"pie\", title=\"Number of successful/failed requests\",\n",
    "        xlabel=\"\", ylabel=\"\",\n",
    "        legend=True)\n",
    "# HTTP status code of failed requests\n",
    "df = requests[requests[\"status\"] == \"failed\"].groupby([\"status_code\"]).count()[\"method\"]\n",
    "ax = fig.add_subplot(1, 3, 3)\n",
    "df.plot(ax=ax, kind=\"pie\", title=\"HTTP status code of failed requests\",\n",
    "        xlabel=\"\", ylabel=\"\",\n",
    "        legend=True)"
   ]
  },
  {
   "cell_type": "code",
   "execution_count": null,
   "id": "macro-passion",
   "metadata": {
    "execution": {
     "iopub.execute_input": "2021-03-23T17:42:11.173638Z",
     "iopub.status.busy": "2021-03-23T17:42:11.173035Z",
     "iopub.status.idle": "2021-03-23T17:42:11.570191Z",
     "shell.execute_reply": "2021-03-23T17:42:11.569724Z"
    },
    "id": "A52oXoXCdCx6",
    "papermill": {
     "duration": 0.430612,
     "end_time": "2021-03-23T17:42:11.570291",
     "exception": false,
     "start_time": "2021-03-23T17:42:11.139679",
     "status": "completed"
    },
    "tags": []
   },
   "outputs": [],
   "source": [
    "df = requests.groupby([\"type\", \"status\"]).count()[\"method\"].unstack().fillna(0)\n",
    "fig = plt.figure(figsize=(18, 12))\n",
    "ax = fig.gca()\n",
    "ax.grid(alpha=0.75)\n",
    "df.plot(ax=ax, kind=\"bar\", stacked=True, title=\"Number of requests of each type\",\n",
    "        xlabel=\"\", ylabel=\"Requests (count)\",\n",
    "        color={\"failed\": \"red\", \"successful\": \"blue\"}, legend=True,\n",
    "        grid=True)"
   ]
  },
  {
   "cell_type": "markdown",
   "id": "collective-finland",
   "metadata": {
    "id": "7CVyGUSedCx6",
    "papermill": {
     "duration": 0.021508,
     "end_time": "2021-03-23T17:42:11.613376",
     "exception": false,
     "start_time": "2021-03-23T17:42:11.591868",
     "status": "completed"
    },
    "tags": []
   },
   "source": [
    "### Throughput (1-second window)"
   ]
  },
  {
   "cell_type": "code",
   "execution_count": null,
   "id": "mounted-bulgarian",
   "metadata": {
    "execution": {
     "iopub.execute_input": "2021-03-23T17:42:11.664142Z",
     "iopub.status.busy": "2021-03-23T17:42:11.663680Z",
     "iopub.status.idle": "2021-03-23T17:42:16.793053Z",
     "shell.execute_reply": "2021-03-23T17:42:16.793533Z"
    },
    "id": "MMCoONkbdCx7",
    "papermill": {
     "duration": 5.159335,
     "end_time": "2021-03-23T17:42:16.794064",
     "exception": false,
     "start_time": "2021-03-23T17:42:11.634729",
     "status": "completed"
    },
    "tags": []
   },
   "outputs": [],
   "source": [
    "df = requests.groupby([\"window\", \"status\"])[\"window\"].count().unstack().fillna(0)\n",
    "df = df.reindex(range(0, int(df.index.max()) + 1), fill_value=0)\n",
    "fig = plt.figure(figsize=(18, 12))\n",
    "ax = fig.gca()\n",
    "ax.grid(alpha=0.75)\n",
    "ax.axvline(x=workload_conf[\"duration\"][\"ramp_up\"],\n",
    "           ls=\"--\", color=\"green\")\n",
    "ax.axvline(x=workload_conf[\"duration\"][\"total\"] - workload_conf[\"duration\"][\"ramp_down\"],\n",
    "           ls=\"--\", color=\"green\")\n",
    "df.plot(ax=ax, kind=\"bar\", stacked=True, title=\"Throughput (requests per second)\",\n",
    "        xlabel=\"Time (seconds)\", ylabel=\"Requests (count)\",\n",
    "        color={\"failed\": \"red\", \"successful\": \"blue\"}, legend=True, grid=True,\n",
    "        xticks=range(0, int(requests[\"time\"].max()) + 1, 60))"
   ]
  },
  {
   "cell_type": "code",
   "execution_count": null,
   "id": "tracked-sodium",
   "metadata": {
    "execution": {
     "iopub.execute_input": "2021-03-23T17:42:16.870108Z",
     "iopub.status.busy": "2021-03-23T17:42:16.862766Z",
     "iopub.status.idle": "2021-03-23T17:42:53.369576Z",
     "shell.execute_reply": "2021-03-23T17:42:53.370395Z"
    },
    "id": "awJncDrWdCx7",
    "papermill": {
     "duration": 36.545094,
     "end_time": "2021-03-23T17:42:53.371253",
     "exception": false,
     "start_time": "2021-03-23T17:42:16.826159",
     "status": "completed"
    },
    "tags": []
   },
   "outputs": [],
   "source": [
    "fig = plt.figure(figsize=(24, 24))\n",
    "for (i, (request_type, _)) in enumerate(requests.groupby([\"type\"])):\n",
    "    df = requests[requests[\"type\"] == request_type]\n",
    "    df = df.groupby([\"window\", \"status\"])[\"window\"].count().unstack().fillna(0)\n",
    "    df = df.reindex(range(0, int(requests[\"time\"].max()) + 1), fill_value=0)\n",
    "    ax = fig.add_subplot(4, 4, i + 1)\n",
    "    ax.axvline(x=workload_conf[\"duration\"][\"ramp_up\"],\n",
    "               ls=\"--\", color=\"green\")\n",
    "    ax.axvline(x=workload_conf[\"duration\"][\"total\"] - workload_conf[\"duration\"][\"ramp_down\"],\n",
    "               ls=\"--\", color=\"green\")\n",
    "    ax.grid(alpha=0.75)\n",
    "    df.plot(ax=ax, kind=\"bar\", stacked=True, title=request_type,\n",
    "            xlabel=\"\", ylabel=\"\",\n",
    "            color={\"failed\": \"red\", \"successful\": \"blue\"}, legend=False, grid=True,\n",
    "            xticks=range(0, int(requests[\"time\"].max()) + 1, 60))"
   ]
  },
  {
   "cell_type": "markdown",
   "id": "stainless-weekend",
   "metadata": {
    "id": "M-gKDgEnq7cc",
    "papermill": {
     "duration": 0.066157,
     "end_time": "2021-03-23T17:42:53.540512",
     "exception": false,
     "start_time": "2021-03-23T17:42:53.474355",
     "status": "completed"
    },
    "tags": []
   },
   "source": [
    "### Throughput (fine-grained window)"
   ]
  },
  {
   "cell_type": "code",
   "execution_count": null,
   "id": "administrative-treat",
   "metadata": {
    "execution": {
     "iopub.execute_input": "2021-03-23T17:42:53.661044Z",
     "iopub.status.busy": "2021-03-23T17:42:53.660127Z",
     "iopub.status.idle": "2021-03-23T17:44:19.609186Z",
     "shell.execute_reply": "2021-03-23T17:44:19.609634Z"
    },
    "id": "hptIluSJrAoE",
    "papermill": {
     "duration": 86.028859,
     "end_time": "2021-03-23T17:44:19.609875",
     "exception": false,
     "start_time": "2021-03-23T17:42:53.581016",
     "status": "completed"
    },
    "tags": []
   },
   "outputs": [],
   "source": [
    "# [CONFIG] Request type or '*' for all\n",
    "REQUEST_TYPE = '*'\n",
    "\n",
    "df = requests[requests[\"type\"] == REQUEST_TYPE] if REQUEST_TYPE != '*' else requests\n",
    "df = df.groupby([\"fg_window\", \"status\"])[\"fg_window\"].count().unstack().fillna(0)\n",
    "df = df.reindex(range(0, int(df.index.max()) + 1), fill_value=0)\n",
    "fig = plt.figure(figsize=(108, 48))\n",
    "ax = fig.gca()\n",
    "ax.grid(alpha=0.75)\n",
    "ax.axvline(x=(workload_conf[\"duration\"][\"ramp_up\"] * 1000) // PIT_FG_WINDOW_IN_MS,\n",
    "           ls=\"--\", linewidth=5, color=\"green\")\n",
    "ax.axvline(x=((workload_conf[\"duration\"][\"total\"] - workload_conf[\"duration\"][\"ramp_down\"])  * 1000) // PIT_FG_WINDOW_IN_MS,\n",
    "           ls=\"--\", linewidth=5, color=\"green\")\n",
    "ax.set_xticklabels([str(x * 60) for x in range(0, int(df.index.max()) // (60 * (1000 // PIT_FG_WINDOW_IN_MS)) + 1)])\n",
    "df.plot(ax=ax, kind=\"bar\", stacked=True,\n",
    "        title=\"Throughput (requests per %s milliseconds)\" % PIT_FG_WINDOW_IN_MS,\n",
    "        xlabel=\"Time (seconds)\", ylabel=\"Requests (count)\",\n",
    "        color={\"failed\": \"red\", \"successful\": \"blue\"}, legend=True, grid=True,\n",
    "        xticks=range(0, int(df.index.max()) + 1, 60 * (1000 // PIT_FG_WINDOW_IN_MS)))"
   ]
  },
  {
   "cell_type": "markdown",
   "id": "meaning-potato",
   "metadata": {
    "id": "bU5rb4qzdCx7",
    "papermill": {
     "duration": 0.03711,
     "end_time": "2021-03-23T17:44:19.676928",
     "exception": false,
     "start_time": "2021-03-23T17:44:19.639818",
     "status": "completed"
    },
    "tags": []
   },
   "source": [
    "### Latency Distribution of Successful Requests Excluding Ramping Periods"
   ]
  },
  {
   "cell_type": "code",
   "execution_count": null,
   "id": "nutritional-samba",
   "metadata": {
    "execution": {
     "iopub.execute_input": "2021-03-23T17:44:19.758498Z",
     "iopub.status.busy": "2021-03-23T17:44:19.752111Z",
     "iopub.status.idle": "2021-03-23T17:44:20.976288Z",
     "shell.execute_reply": "2021-03-23T17:44:20.976620Z"
    },
    "id": "lzBCF8BedCx7",
    "papermill": {
     "duration": 1.270674,
     "end_time": "2021-03-23T17:44:20.976743",
     "exception": false,
     "start_time": "2021-03-23T17:44:19.706069",
     "status": "completed"
    },
    "tags": []
   },
   "outputs": [],
   "source": [
    "# [CONFIG] Max latency\n",
    "MAX_LATENCY_IN_S = 10\n",
    "# [CONFIG] Latency bin size\n",
    "LATENCY_BIN_IN_MS = 50\n",
    "\n",
    "df = requests[requests[\"status\"] == \"successful\"]\n",
    "df = df[(df[\"time\"] >= workload_conf[\"duration\"][\"ramp_up\"]) &\n",
    "        (df[\"time\"] <= workload_conf[\"duration\"][\"total\"] - workload_conf[\"duration\"][\"ramp_down\"])]\n",
    "df[\"latency_bin\"] = df.apply(lambda r: int(r[\"latency\"] * 1000 // LATENCY_BIN_IN_MS), axis=1)\n",
    "fig = plt.figure(figsize=(18, 12))\n",
    "ax = fig.gca(xlabel=\"Latency (s)\", ylabel=\"Requests (count)\")\n",
    "ax.grid(alpha=0.75)\n",
    "ax.set_yscale(\"log\")\n",
    "ax.set_xlim((0, (1000 // LATENCY_BIN_IN_MS) * MAX_LATENCY_IN_S))\n",
    "ax.set_ylim((0, 10000))\n",
    "ax.set_xticks(range(0, (1000 // LATENCY_BIN_IN_MS) * MAX_LATENCY_IN_S + 1, (1000 // LATENCY_BIN_IN_MS)))\n",
    "ax.set_xticklabels([str(s) for s in range(MAX_LATENCY_IN_S + 1)])\n",
    "df[\"latency_bin\"].plot(ax=ax, kind=\"hist\",\n",
    "                       title=\"Latency Distribution of Successful Requests Excluding Ramping Periods\",\n",
    "                       bins=range((1000 // LATENCY_BIN_IN_MS) * MAX_LATENCY_IN_S), grid=True)"
   ]
  },
  {
   "cell_type": "code",
   "execution_count": null,
   "id": "annual-madness",
   "metadata": {
    "id": "iNzCr2ejdCx7",
    "papermill": {
     "duration": null,
     "end_time": null,
     "exception": false,
     "start_time": "2021-03-23T17:44:21.006237",
     "status": "running"
    },
    "tags": []
   },
   "outputs": [],
   "source": [
    "fig = plt.figure(figsize=(24, 24))\n",
    "for (i, (request_type, _)) in enumerate(requests.groupby([\"type\"])):\n",
    "    df = requests[(requests[\"status\"] == \"successful\") & (requests[\"type\"] == request_type)]\n",
    "    df = df[(df[\"time\"] >= workload_conf[\"duration\"][\"ramp_up\"]) &\n",
    "            (df[\"time\"] <= workload_conf[\"duration\"][\"total\"] - workload_conf[\"duration\"][\"ramp_down\"])]\n",
    "    df[\"latency_bin\"] = df.apply(lambda r: int(r[\"latency\"] * 1000 // LATENCY_BIN_IN_MS), axis=1)\n",
    "    ax = fig.add_subplot(4, 4, i + 1)\n",
    "    ax.grid(alpha=0.75)\n",
    "    ax.set_yscale(\"log\")\n",
    "    ax.set_xlim((0, (1000 // LATENCY_BIN_IN_MS) * MAX_LATENCY_IN_S))\n",
    "    ax.set_ylim((0, 10000))\n",
    "    ax.set_xticks(range(0, (1000 // LATENCY_BIN_IN_MS) * MAX_LATENCY_IN_S + 1, (1000 // LATENCY_BIN_IN_MS)))\n",
    "    ax.set_xticklabels([str(s) for s in range(MAX_LATENCY_IN_S + 1)])\n",
    "    df[\"latency_bin\"].plot(ax=ax, kind=\"hist\", title=request_type,\n",
    "                           xlabel=\"\", ylabel=\"\",\n",
    "                           bins=range((1000 // LATENCY_BIN_IN_MS) * MAX_LATENCY_IN_S), grid=True)"
   ]
  },
  {
   "cell_type": "markdown",
   "id": "fuzzy-taiwan",
   "metadata": {
    "id": "NyMdkDUYdCx7",
    "papermill": {
     "duration": null,
     "end_time": null,
     "exception": null,
     "start_time": null,
     "status": "pending"
    },
    "tags": []
   },
   "source": [
    "### PIT Latency of Successful Requests (1-second window)"
   ]
  },
  {
   "cell_type": "code",
   "execution_count": null,
   "id": "compatible-vision",
   "metadata": {
    "id": "GZVytZnzdCx7",
    "papermill": {
     "duration": null,
     "end_time": null,
     "exception": null,
     "start_time": null,
     "status": "pending"
    },
    "tags": []
   },
   "outputs": [],
   "source": [
    "df = requests[requests[\"status\"] == \"successful\"]\n",
    "df = df.groupby([\"window\"])[\"latency\"].agg(PIT_AGGREGATE_FUNC)\n",
    "df = df.reindex(range(0, int(df.index.max()) + 1), fill_value=0)\n",
    "fig = plt.figure(figsize=(18, 12))\n",
    "ax = fig.gca()\n",
    "ax.axvline(x=workload_conf[\"duration\"][\"ramp_up\"],\n",
    "           ls=\"--\", color=\"green\")\n",
    "ax.axvline(x=workload_conf[\"duration\"][\"total\"] - workload_conf[\"duration\"][\"ramp_down\"],\n",
    "           ls=\"--\", color=\"green\")\n",
    "ax.grid(alpha=0.75)\n",
    "df.plot(ax=ax, kind=\"bar\", title=\"PIT Latency of Successful Requests (1-second window)\",\n",
    "        xlabel=\"Time (seconds)\", ylabel=\"Latency (seconds)\",\n",
    "        color=\"purple\", logy=True, grid=True,\n",
    "        xticks=range(0, int(df.index.max()) + 1, 60),\n",
    "        yticks=[0.001, 0.010, 0.100, 1.0, 10.0, 50.0])"
   ]
  },
  {
   "cell_type": "code",
   "execution_count": null,
   "id": "contained-distinction",
   "metadata": {
    "id": "LJlCFJwUdCx7",
    "papermill": {
     "duration": null,
     "end_time": null,
     "exception": null,
     "start_time": null,
     "status": "pending"
    },
    "tags": []
   },
   "outputs": [],
   "source": [
    "fig = plt.figure(figsize=(24, 24))\n",
    "for (i, (request_type, _)) in enumerate(requests.groupby([\"type\"])):\n",
    "    df = requests[(requests[\"status\"] == \"successful\") & (requests[\"type\"] == request_type)]\n",
    "    df = df.groupby([\"window\"])[\"latency\"].agg(PIT_AGGREGATE_FUNC)\n",
    "    df = df.reindex(range(0, int(requests[\"time\"].max()) + 1), fill_value=0)\n",
    "    ax = fig.add_subplot(4, 4, i + 1)\n",
    "    ax.axvline(x=workload_conf[\"duration\"][\"ramp_up\"],\n",
    "               ls=\"--\", color=\"green\")\n",
    "    ax.axvline(x=workload_conf[\"duration\"][\"total\"] - workload_conf[\"duration\"][\"ramp_down\"],\n",
    "               ls=\"--\", color=\"green\")\n",
    "    ax.grid(alpha=0.75)\n",
    "    df.plot(ax=ax, kind=\"bar\", title=request_type,\n",
    "            xlabel=\"\", ylabel=\"\",\n",
    "            color=\"purple\", logy=True, grid=True,\n",
    "            xticks=range(0, int(requests[\"time\"].max()) + 1, 60),\n",
    "            yticks=[0.001, 0.010, 0.100, 1.0, 10.0, 50.0])"
   ]
  },
  {
   "cell_type": "markdown",
   "id": "casual-runner",
   "metadata": {
    "id": "uo40K7vxdCx7",
    "papermill": {
     "duration": null,
     "end_time": null,
     "exception": null,
     "start_time": null,
     "status": "pending"
    },
    "tags": []
   },
   "source": [
    "### PIT Latency of Successful Requests (fine-grained window)"
   ]
  },
  {
   "cell_type": "code",
   "execution_count": null,
   "id": "animated-companion",
   "metadata": {
    "id": "n_V8-07KtdtL",
    "papermill": {
     "duration": null,
     "end_time": null,
     "exception": null,
     "start_time": null,
     "status": "pending"
    },
    "tags": []
   },
   "outputs": [],
   "source": [
    "# [CONFIG] Request type or '*' for all\n",
    "REQUEST_TYPE = '*'\n",
    "\n",
    "df = requests[requests[\"type\"] == REQUEST_TYPE] if REQUEST_TYPE != '*' else requests\n",
    "df = df[requests[\"status\"] == \"successful\"]\n",
    "df = df.groupby([\"fg_window\"])[\"latency\"].agg(PIT_AGGREGATE_FUNC)\n",
    "df = df.reindex(range(0, int(df.index.max()) + 1), fill_value=0)\n",
    "fig = plt.figure(figsize=(108, 48))\n",
    "ax = fig.gca()\n",
    "ax.grid(alpha=0.75)\n",
    "ax.axvline(x=(workload_conf[\"duration\"][\"ramp_up\"] * 1000) // PIT_FG_WINDOW_IN_MS,\n",
    "           ls=\"--\", linewidth=5, color=\"green\")\n",
    "ax.axvline(x=((workload_conf[\"duration\"][\"total\"] - workload_conf[\"duration\"][\"ramp_down\"])  * 1000) // PIT_FG_WINDOW_IN_MS,\n",
    "           ls=\"--\", linewidth=5, color=\"green\")\n",
    "ax.set_xticklabels([str(x * 60) for x in range(0, int(df.index.max()) // (60 * (1000 // PIT_FG_WINDOW_IN_MS)) + 1)])\n",
    "df.plot(ax=ax, kind=\"bar\",\n",
    "        title=\"PIT Latency of Successful Requests (%s-millisecond window)\" % PIT_FG_WINDOW_IN_MS,\n",
    "        xlabel=\"Time (seconds)\", ylabel=\"Latency (seconds)\",\n",
    "        color=\"purple\", logy=True, grid=True,\n",
    "        xticks=range(0, int(df.index.max()) + 1, 60 * (1000 // PIT_FG_WINDOW_IN_MS)),\n",
    "        yticks=[0.001, 0.010, 0.100, 1.0, 10.0, 50.0])"
   ]
  },
  {
   "cell_type": "markdown",
   "id": "complicated-insulin",
   "metadata": {
    "papermill": {
     "duration": null,
     "end_time": null,
     "exception": null,
     "start_time": null,
     "status": "pending"
    },
    "tags": []
   },
   "source": [
    "## System Event Monitoring Logs"
   ]
  },
  {
   "cell_type": "code",
   "execution_count": null,
   "id": "immediate-beauty",
   "metadata": {
    "papermill": {
     "duration": null,
     "end_time": null,
     "exception": null,
     "start_time": null,
     "status": "pending"
    },
    "tags": []
   },
   "outputs": [],
   "source": [
    "# Parse tcplife logs\n",
    "conn_to = []\n",
    "for node_hostname in os.listdir(os.path.join(EXPERIMENT_DIR, \"logs\")):\n",
    "    if os.path.isfile(os.path.join(EXPERIMENT_DIR, \"logs\", node_hostname, \"tcplife-bpfcc.tar.gz\")):\n",
    "        tarball = tarfile.open(os.path.join(EXPERIMENT_DIR, \"logs\", node_hostname, \"tcplife-bpfcc.tar.gz\"))\n",
    "        with tarball.extractfile(\"./tcplife-bpfcc.log\") as tcplife_log_file:\n",
    "            reader = csv.DictReader(codecs.getreader(\"utf-8\")(tcplife_log_file))\n",
    "            for row in reader:\n",
    "                if row[\"COMM\"] in (\"uwsgi\", \"nginx\", \"postgres\", \"account_server\", \"follow_server\", \"like_server\", \"post_server\", \"uniquepair_serv\"):\n",
    "                    conn_to.append({\n",
    "                        \"time\": float(row[\"TIME(s)\"]),\n",
    "                        \"comm\": row[\"COMM\"],\n",
    "                        \"addr\": row[\"RADDR\"],\n",
    "                        \"port\": row[\"RPORT\"],\n",
    "                        \"duration\": float(row[\"MS\"])\n",
    "                    })"
   ]
  },
  {
   "cell_type": "code",
   "execution_count": null,
   "id": "cross-attendance",
   "metadata": {
    "papermill": {
     "duration": null,
     "end_time": null,
     "exception": null,
     "start_time": null,
     "status": "pending"
    },
    "tags": []
   },
   "outputs": [],
   "source": [
    "# Build data frame\n",
    "conn_to = pd.DataFrame(conn_to)\n",
    "conn_to[\"fg_window\"] = conn_to.apply(lambda r: range(int(r[\"time\"] * 1000) // TCPLIFE_FG_WINDOW_IN_MS, int((r[\"time\"] + r[\"duration\"] / 1000) * 1000) // TCPLIFE_FG_WINDOW_IN_MS + 1), axis=1)\n",
    "conn_to = conn_to.explode(\"fg_window\")"
   ]
  },
  {
   "cell_type": "markdown",
   "id": "controlling-terrain",
   "metadata": {
    "papermill": {
     "duration": null,
     "end_time": null,
     "exception": null,
     "start_time": null,
     "status": "pending"
    },
    "tags": []
   },
   "source": [
    "### API Gateway (fine-grained Window)"
   ]
  },
  {
   "cell_type": "code",
   "execution_count": null,
   "id": "western-terry",
   "metadata": {
    "papermill": {
     "duration": null,
     "end_time": null,
     "exception": null,
     "start_time": null,
     "status": "pending"
    },
    "tags": []
   },
   "outputs": [],
   "source": [
    "# [TODO] Get ports from configuration file\n",
    "\n",
    "df = conn_to\n",
    "df = df[df[\"port\"] == \"8080\"]\n",
    "df = df.groupby([\"fg_window\"])[\"fg_window\"].count()\n",
    "df = df.reindex(range(0, int(df.index.max()) + 1), fill_value=0)\n",
    "fig = plt.figure(figsize=(108, 48))\n",
    "ax = fig.gca()\n",
    "ax.grid(alpha=0.75)\n",
    "ax.axvline(x=(workload_conf[\"duration\"][\"ramp_up\"] * 1000) // TCPLIFE_FG_WINDOW_IN_MS,\n",
    "           ls=\"--\", linewidth=5, color=\"green\")\n",
    "ax.axvline(x=((workload_conf[\"duration\"][\"total\"] - workload_conf[\"duration\"][\"ramp_down\"])  * 1000) // TCPLIFE_FG_WINDOW_IN_MS,\n",
    "           ls=\"--\", linewidth=5, color=\"green\")\n",
    "ax.set_xticklabels([str(x * 60) for x in range(0, int(df.index.max()) // (60 * (1000 // TCPLIFE_FG_WINDOW_IN_MS)) + 1)])\n",
    "df.plot(ax=ax, kind=\"bar\",\n",
    "        title=\"API Gateway - Number of requests being processed (%s-millisecond window)\" % TCPLIFE_FG_WINDOW_IN_MS,\n",
    "        xlabel=\"Time\", ylabel=\"Requests (count)\",\n",
    "        color=\"black\", grid=True,\n",
    "        xticks=range(0, int(df.index.max()) + 1, 60 * (1000 // TCPLIFE_FG_WINDOW_IN_MS)))"
   ]
  },
  {
   "cell_type": "markdown",
   "id": "affecting-garage",
   "metadata": {
    "id": "g9RUl5DddCx-",
    "papermill": {
     "duration": null,
     "end_time": null,
     "exception": null,
     "start_time": null,
     "status": "pending"
    },
    "tags": []
   },
   "source": [
    "## Experiment Configuration"
   ]
  },
  {
   "cell_type": "markdown",
   "id": "mathematical-flashing",
   "metadata": {
    "id": "_eXmMeE1dCx-",
    "papermill": {
     "duration": null,
     "end_time": null,
     "exception": null,
     "start_time": null,
     "status": "pending"
    },
    "tags": []
   },
   "source": [
    "### System Configuration File"
   ]
  },
  {
   "cell_type": "code",
   "execution_count": null,
   "id": "legendary-skirt",
   "metadata": {
    "id": "jgpAA5nUdCx-",
    "papermill": {
     "duration": null,
     "end_time": null,
     "exception": null,
     "start_time": null,
     "status": "pending"
    },
    "scrolled": false,
    "tags": []
   },
   "outputs": [],
   "source": [
    "print(yaml.dump(system_conf))"
   ]
  },
  {
   "cell_type": "markdown",
   "id": "placed-paris",
   "metadata": {
    "id": "4Kw7jVF3dCx-",
    "papermill": {
     "duration": null,
     "end_time": null,
     "exception": null,
     "start_time": null,
     "status": "pending"
    },
    "tags": []
   },
   "source": [
    "### Workload Configuration File"
   ]
  },
  {
   "cell_type": "code",
   "execution_count": null,
   "id": "contemporary-wichita",
   "metadata": {
    "id": "nvNsVldTdCx-",
    "papermill": {
     "duration": null,
     "end_time": null,
     "exception": null,
     "start_time": null,
     "status": "pending"
    },
    "tags": []
   },
   "outputs": [],
   "source": [
    "print(yaml.dump(workload_conf))"
   ]
  }
 ],
 "metadata": {
  "colab": {
   "collapsed_sections": [],
   "name": "BuzzBlogExperimentAnalysis.ipynb",
   "provenance": []
  },
  "kernelspec": {
   "display_name": "Python 3",
   "language": "python",
   "name": "python3"
  },
  "language_info": {
   "codemirror_mode": {
    "name": "ipython",
    "version": 3
   },
   "file_extension": ".py",
   "mimetype": "text/x-python",
   "name": "python",
   "nbconvert_exporter": "python",
   "pygments_lexer": "ipython3",
   "version": "3.8.5"
  },
  "papermill": {
   "default_parameters": {},
   "duration": null,
   "end_time": null,
   "environment_variables": {},
   "exception": null,
   "input_path": "BuzzBlogExperimentAnalysis.ipynb",
   "output_path": "BuzzBlogExperimentAnalysis.ipynb",
   "parameters": {},
   "start_time": "2021-03-23T17:42:00.556352",
   "version": "2.3.3"
  }
 },
 "nbformat": 4,
 "nbformat_minor": 5
}
